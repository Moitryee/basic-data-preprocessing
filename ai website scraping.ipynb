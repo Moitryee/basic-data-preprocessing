{
 "cells": [
  {
   "cell_type": "code",
   "execution_count": 65,
   "id": "82719d97",
   "metadata": {},
   "outputs": [],
   "source": [
    "## scraping the data with Ai\n",
    "import pandas as pd\n",
    "import numpy as np"
   ]
  },
  {
   "cell_type": "code",
   "execution_count": 2,
   "id": "f149d351",
   "metadata": {},
   "outputs": [
    {
     "data": {
      "text/html": [
       "<div>\n",
       "<style scoped>\n",
       "    .dataframe tbody tr th:only-of-type {\n",
       "        vertical-align: middle;\n",
       "    }\n",
       "\n",
       "    .dataframe tbody tr th {\n",
       "        vertical-align: top;\n",
       "    }\n",
       "\n",
       "    .dataframe thead th {\n",
       "        text-align: right;\n",
       "    }\n",
       "</style>\n",
       "<table border=\"1\" class=\"dataframe\">\n",
       "  <thead>\n",
       "    <tr style=\"text-align: right;\">\n",
       "      <th></th>\n",
       "      <th>Position</th>\n",
       "      <th>Delivery_status</th>\n",
       "    </tr>\n",
       "  </thead>\n",
       "  <tbody>\n",
       "    <tr>\n",
       "      <th>0</th>\n",
       "      <td>1</td>\n",
       "      <td>Free Delivery</td>\n",
       "    </tr>\n",
       "    <tr>\n",
       "      <th>1</th>\n",
       "      <td>2</td>\n",
       "      <td>Free Delivery</td>\n",
       "    </tr>\n",
       "    <tr>\n",
       "      <th>2</th>\n",
       "      <td>3</td>\n",
       "      <td>Free Delivery</td>\n",
       "    </tr>\n",
       "  </tbody>\n",
       "</table>\n",
       "</div>"
      ],
      "text/plain": [
       "   Position Delivery_status\n",
       "0         1   Free Delivery\n",
       "1         2   Free Delivery\n",
       "2         3   Free Delivery"
      ]
     },
     "execution_count": 2,
     "metadata": {},
     "output_type": "execute_result"
    }
   ],
   "source": [
    "df_delivery=pd.read_csv(\"extract-data-from-women-kurtis-buy-women-kurtis-online-starting-at-just-indian-rupee111-or-meesho_delivery_captured-list_2023-12-03_5087c1c3-8444-43bf-bc28-177259abf659.csv\")\n",
    "df_delivery.head(3)"
   ]
  },
  {
   "cell_type": "code",
   "execution_count": 3,
   "id": "660b1398",
   "metadata": {},
   "outputs": [],
   "source": [
    "df_name=pd.read_csv(\"extract-data-from-women-kurtis-buy-women-kurtis-online-starting-at-just-indian-rupee111-or-meesho_krutis_name_captured-list_2023-12-03_5087c1c3-8444-43bf-bc28-177259abf659.csv\")"
   ]
  },
  {
   "cell_type": "code",
   "execution_count": 4,
   "id": "8d66d354",
   "metadata": {},
   "outputs": [
    {
     "data": {
      "text/html": [
       "<div>\n",
       "<style scoped>\n",
       "    .dataframe tbody tr th:only-of-type {\n",
       "        vertical-align: middle;\n",
       "    }\n",
       "\n",
       "    .dataframe tbody tr th {\n",
       "        vertical-align: top;\n",
       "    }\n",
       "\n",
       "    .dataframe thead th {\n",
       "        text-align: right;\n",
       "    }\n",
       "</style>\n",
       "<table border=\"1\" class=\"dataframe\">\n",
       "  <thead>\n",
       "    <tr style=\"text-align: right;\">\n",
       "      <th></th>\n",
       "      <th>Position</th>\n",
       "      <th>kruti_name</th>\n",
       "    </tr>\n",
       "  </thead>\n",
       "  <tbody>\n",
       "    <tr>\n",
       "      <th>0</th>\n",
       "      <td>1</td>\n",
       "      <td>Aishani Refined Kurtis</td>\n",
       "    </tr>\n",
       "    <tr>\n",
       "      <th>1</th>\n",
       "      <td>2</td>\n",
       "      <td>Trendy Sensational Kurtis</td>\n",
       "    </tr>\n",
       "    <tr>\n",
       "      <th>2</th>\n",
       "      <td>3</td>\n",
       "      <td>Banita Sensational Kurtis</td>\n",
       "    </tr>\n",
       "  </tbody>\n",
       "</table>\n",
       "</div>"
      ],
      "text/plain": [
       "   Position                 kruti_name\n",
       "0         1     Aishani Refined Kurtis\n",
       "1         2  Trendy Sensational Kurtis\n",
       "2         3  Banita Sensational Kurtis"
      ]
     },
     "execution_count": 4,
     "metadata": {},
     "output_type": "execute_result"
    }
   ],
   "source": [
    "df_name.head(3)"
   ]
  },
  {
   "cell_type": "code",
   "execution_count": 5,
   "id": "eaf384b5",
   "metadata": {},
   "outputs": [
    {
     "data": {
      "text/html": [
       "<div>\n",
       "<style scoped>\n",
       "    .dataframe tbody tr th:only-of-type {\n",
       "        vertical-align: middle;\n",
       "    }\n",
       "\n",
       "    .dataframe tbody tr th {\n",
       "        vertical-align: top;\n",
       "    }\n",
       "\n",
       "    .dataframe thead th {\n",
       "        text-align: right;\n",
       "    }\n",
       "</style>\n",
       "<table border=\"1\" class=\"dataframe\">\n",
       "  <thead>\n",
       "    <tr style=\"text-align: right;\">\n",
       "      <th></th>\n",
       "      <th>Position</th>\n",
       "      <th>price</th>\n",
       "    </tr>\n",
       "  </thead>\n",
       "  <tbody>\n",
       "    <tr>\n",
       "      <th>0</th>\n",
       "      <td>1</td>\n",
       "      <td>₹712 onwards</td>\n",
       "    </tr>\n",
       "    <tr>\n",
       "      <th>1</th>\n",
       "      <td>2</td>\n",
       "      <td>₹170 onwards</td>\n",
       "    </tr>\n",
       "    <tr>\n",
       "      <th>2</th>\n",
       "      <td>3</td>\n",
       "      <td>₹280 onwards</td>\n",
       "    </tr>\n",
       "    <tr>\n",
       "      <th>3</th>\n",
       "      <td>4</td>\n",
       "      <td>₹275 onwards</td>\n",
       "    </tr>\n",
       "  </tbody>\n",
       "</table>\n",
       "</div>"
      ],
      "text/plain": [
       "   Position         price\n",
       "0         1  ₹712 onwards\n",
       "1         2  ₹170 onwards\n",
       "2         3  ₹280 onwards\n",
       "3         4  ₹275 onwards"
      ]
     },
     "execution_count": 5,
     "metadata": {},
     "output_type": "execute_result"
    }
   ],
   "source": [
    "df_price= pd.read_csv(\"extract-data-from-women-kurtis-buy-women-kurtis-online-starting-at-just-indian-rupee111-or-meesho_prices_captured-list_2023-12-03_5087c1c3-8444-43bf-bc28-177259abf659.csv\")\n",
    "df_price.head(4)"
   ]
  },
  {
   "cell_type": "code",
   "execution_count": 6,
   "id": "036ad385",
   "metadata": {},
   "outputs": [
    {
     "data": {
      "text/html": [
       "<div>\n",
       "<style scoped>\n",
       "    .dataframe tbody tr th:only-of-type {\n",
       "        vertical-align: middle;\n",
       "    }\n",
       "\n",
       "    .dataframe tbody tr th {\n",
       "        vertical-align: top;\n",
       "    }\n",
       "\n",
       "    .dataframe thead th {\n",
       "        text-align: right;\n",
       "    }\n",
       "</style>\n",
       "<table border=\"1\" class=\"dataframe\">\n",
       "  <thead>\n",
       "    <tr style=\"text-align: right;\">\n",
       "      <th></th>\n",
       "      <th>Position</th>\n",
       "      <th>rateings</th>\n",
       "    </tr>\n",
       "  </thead>\n",
       "  <tbody>\n",
       "    <tr>\n",
       "      <th>0</th>\n",
       "      <td>1</td>\n",
       "      <td>4.0\\nSupplier</td>\n",
       "    </tr>\n",
       "    <tr>\n",
       "      <th>1</th>\n",
       "      <td>2</td>\n",
       "      <td>3.8\\n28042 Reviews</td>\n",
       "    </tr>\n",
       "    <tr>\n",
       "      <th>2</th>\n",
       "      <td>3</td>\n",
       "      <td>4.0\\n62010 Reviews</td>\n",
       "    </tr>\n",
       "  </tbody>\n",
       "</table>\n",
       "</div>"
      ],
      "text/plain": [
       "   Position            rateings\n",
       "0         1       4.0\\nSupplier\n",
       "1         2  3.8\\n28042 Reviews\n",
       "2         3  4.0\\n62010 Reviews"
      ]
     },
     "execution_count": 6,
     "metadata": {},
     "output_type": "execute_result"
    }
   ],
   "source": [
    "df_rateings=pd.read_csv(\"extract-data-from-women-kurtis-buy-women-kurtis-online-starting-at-just-indian-rupee111-or-meesho_reviews_captured-list_2023-12-03_5087c1c3-8444-43bf-bc28-177259abf659.csv\")\n",
    "df_rateings.head(3)"
   ]
  },
  {
   "cell_type": "code",
   "execution_count": 7,
   "id": "7be16506",
   "metadata": {},
   "outputs": [],
   "source": [
    "df_finale= pd.merge(df_rateings,df_price, on=\"Position\")"
   ]
  },
  {
   "cell_type": "code",
   "execution_count": 8,
   "id": "464e5f06",
   "metadata": {},
   "outputs": [],
   "source": [
    "df_final= pd.merge(df_name,df_delivery,on=\"Position\")"
   ]
  },
  {
   "cell_type": "code",
   "execution_count": 9,
   "id": "65334b21",
   "metadata": {},
   "outputs": [
    {
     "data": {
      "text/html": [
       "<div>\n",
       "<style scoped>\n",
       "    .dataframe tbody tr th:only-of-type {\n",
       "        vertical-align: middle;\n",
       "    }\n",
       "\n",
       "    .dataframe tbody tr th {\n",
       "        vertical-align: top;\n",
       "    }\n",
       "\n",
       "    .dataframe thead th {\n",
       "        text-align: right;\n",
       "    }\n",
       "</style>\n",
       "<table border=\"1\" class=\"dataframe\">\n",
       "  <thead>\n",
       "    <tr style=\"text-align: right;\">\n",
       "      <th></th>\n",
       "      <th>Position</th>\n",
       "      <th>kruti_name</th>\n",
       "      <th>Delivery_status</th>\n",
       "    </tr>\n",
       "  </thead>\n",
       "  <tbody>\n",
       "    <tr>\n",
       "      <th>0</th>\n",
       "      <td>1</td>\n",
       "      <td>Aishani Refined Kurtis</td>\n",
       "      <td>Free Delivery</td>\n",
       "    </tr>\n",
       "    <tr>\n",
       "      <th>1</th>\n",
       "      <td>2</td>\n",
       "      <td>Trendy Sensational Kurtis</td>\n",
       "      <td>Free Delivery</td>\n",
       "    </tr>\n",
       "    <tr>\n",
       "      <th>2</th>\n",
       "      <td>3</td>\n",
       "      <td>Banita Sensational Kurtis</td>\n",
       "      <td>Free Delivery</td>\n",
       "    </tr>\n",
       "    <tr>\n",
       "      <th>3</th>\n",
       "      <td>4</td>\n",
       "      <td>Aagam Attractive Kurtis</td>\n",
       "      <td>Free Delivery</td>\n",
       "    </tr>\n",
       "  </tbody>\n",
       "</table>\n",
       "</div>"
      ],
      "text/plain": [
       "   Position                 kruti_name Delivery_status\n",
       "0         1     Aishani Refined Kurtis   Free Delivery\n",
       "1         2  Trendy Sensational Kurtis   Free Delivery\n",
       "2         3  Banita Sensational Kurtis   Free Delivery\n",
       "3         4    Aagam Attractive Kurtis   Free Delivery"
      ]
     },
     "execution_count": 9,
     "metadata": {},
     "output_type": "execute_result"
    }
   ],
   "source": [
    "df_final.head(4)"
   ]
  },
  {
   "cell_type": "code",
   "execution_count": 10,
   "id": "2165846c",
   "metadata": {},
   "outputs": [],
   "source": [
    "df_all=pd.merge(df_finale,df_final,on=\"Position\")"
   ]
  },
  {
   "cell_type": "code",
   "execution_count": 11,
   "id": "bced6cc1",
   "metadata": {},
   "outputs": [
    {
     "data": {
      "text/html": [
       "<div>\n",
       "<style scoped>\n",
       "    .dataframe tbody tr th:only-of-type {\n",
       "        vertical-align: middle;\n",
       "    }\n",
       "\n",
       "    .dataframe tbody tr th {\n",
       "        vertical-align: top;\n",
       "    }\n",
       "\n",
       "    .dataframe thead th {\n",
       "        text-align: right;\n",
       "    }\n",
       "</style>\n",
       "<table border=\"1\" class=\"dataframe\">\n",
       "  <thead>\n",
       "    <tr style=\"text-align: right;\">\n",
       "      <th></th>\n",
       "      <th>Position</th>\n",
       "      <th>rateings</th>\n",
       "      <th>price</th>\n",
       "      <th>kruti_name</th>\n",
       "      <th>Delivery_status</th>\n",
       "    </tr>\n",
       "  </thead>\n",
       "  <tbody>\n",
       "    <tr>\n",
       "      <th>0</th>\n",
       "      <td>1</td>\n",
       "      <td>4.0\\nSupplier</td>\n",
       "      <td>₹712 onwards</td>\n",
       "      <td>Aishani Refined Kurtis</td>\n",
       "      <td>Free Delivery</td>\n",
       "    </tr>\n",
       "    <tr>\n",
       "      <th>1</th>\n",
       "      <td>2</td>\n",
       "      <td>3.8\\n28042 Reviews</td>\n",
       "      <td>₹170 onwards</td>\n",
       "      <td>Trendy Sensational Kurtis</td>\n",
       "      <td>Free Delivery</td>\n",
       "    </tr>\n",
       "    <tr>\n",
       "      <th>2</th>\n",
       "      <td>3</td>\n",
       "      <td>4.0\\n62010 Reviews</td>\n",
       "      <td>₹280 onwards</td>\n",
       "      <td>Banita Sensational Kurtis</td>\n",
       "      <td>Free Delivery</td>\n",
       "    </tr>\n",
       "  </tbody>\n",
       "</table>\n",
       "</div>"
      ],
      "text/plain": [
       "   Position            rateings         price                 kruti_name  \\\n",
       "0         1       4.0\\nSupplier  ₹712 onwards     Aishani Refined Kurtis   \n",
       "1         2  3.8\\n28042 Reviews  ₹170 onwards  Trendy Sensational Kurtis   \n",
       "2         3  4.0\\n62010 Reviews  ₹280 onwards  Banita Sensational Kurtis   \n",
       "\n",
       "  Delivery_status  \n",
       "0   Free Delivery  \n",
       "1   Free Delivery  \n",
       "2   Free Delivery  "
      ]
     },
     "execution_count": 11,
     "metadata": {},
     "output_type": "execute_result"
    }
   ],
   "source": [
    "df_all.head(3)"
   ]
  },
  {
   "cell_type": "markdown",
   "id": "c1f397e5",
   "metadata": {},
   "source": [
    "# Summary of the data \n",
    " this data ecommerece website specifically kurti section data. \n",
    " \n",
    "** columns are reviews- the column contain both stars and no_of_reviews**\n",
    " \n",
    "** price- cost of items**\n",
    "\n",
    "** kurti_name- name of the item**\n",
    "\n",
    "** Delivery status- it spacifies either it is free delivery or need paid deivery**"
   ]
  },
  {
   "cell_type": "markdown",
   "id": "0952ea3b",
   "metadata": {},
   "source": [
    "## Dirty errors\n",
    "#1. only one missing values that is in rateings (completeness)\n",
    "\n",
    "\n",
    "\n",
    "\n",
    "## Messy errors\n",
    "#1. in ratings column there are two information written one stars and other no_of_reviews\n",
    "#2. price column \"onwards\" column will be deleted\n"
   ]
  },
  {
   "cell_type": "code",
   "execution_count": 12,
   "id": "65ca0699",
   "metadata": {},
   "outputs": [
    {
     "data": {
      "text/plain": [
       "0"
      ]
     },
     "execution_count": 12,
     "metadata": {},
     "output_type": "execute_result"
    }
   ],
   "source": [
    "#no duplicated values\n",
    "df_all.duplicated().sum()"
   ]
  },
  {
   "cell_type": "code",
   "execution_count": 13,
   "id": "7f819b0c",
   "metadata": {},
   "outputs": [
    {
     "name": "stdout",
     "output_type": "stream",
     "text": [
      "<class 'pandas.core.frame.DataFrame'>\n",
      "Int64Index: 20 entries, 0 to 19\n",
      "Data columns (total 5 columns):\n",
      " #   Column           Non-Null Count  Dtype \n",
      "---  ------           --------------  ----- \n",
      " 0   Position         20 non-null     int64 \n",
      " 1   rateings         19 non-null     object\n",
      " 2   price            20 non-null     object\n",
      " 3   kruti_name       20 non-null     object\n",
      " 4   Delivery_status  20 non-null     object\n",
      "dtypes: int64(1), object(4)\n",
      "memory usage: 960.0+ bytes\n"
     ]
    }
   ],
   "source": [
    "df_all.info()"
   ]
  },
  {
   "cell_type": "code",
   "execution_count": 14,
   "id": "867acbb9",
   "metadata": {},
   "outputs": [
    {
     "name": "stdout",
     "output_type": "stream",
     "text": [
      "<class 'pandas.core.frame.DataFrame'>\n",
      "Int64Index: 20 entries, 0 to 19\n",
      "Data columns (total 5 columns):\n",
      " #   Column           Non-Null Count  Dtype \n",
      "---  ------           --------------  ----- \n",
      " 0   Position         20 non-null     int64 \n",
      " 1   rateings         19 non-null     object\n",
      " 2   price            20 non-null     object\n",
      " 3   kruti_name       20 non-null     object\n",
      " 4   Delivery_status  20 non-null     object\n",
      "dtypes: int64(1), object(4)\n",
      "memory usage: 960.0+ bytes\n"
     ]
    }
   ],
   "source": [
    "df_all.info()"
   ]
  },
  {
   "cell_type": "code",
   "execution_count": 15,
   "id": "b654e0ae",
   "metadata": {},
   "outputs": [],
   "source": [
    "#df_all[\"price\"].str.split(\" \")[0][0]\n",
    "##code\n",
    "price=df_all[\"price\"].str.split(\" \")\n",
    "cost= []\n",
    "\n",
    "for i  in price:\n",
    "    #print(i[0])\n",
    "    cost.append(i[0])"
   ]
  },
  {
   "cell_type": "code",
   "execution_count": 16,
   "id": "15003322",
   "metadata": {},
   "outputs": [
    {
     "name": "stdout",
     "output_type": "stream",
     "text": [
      "<class 'list'>\n"
     ]
    }
   ],
   "source": [
    "print(type(cost))"
   ]
  },
  {
   "cell_type": "code",
   "execution_count": 17,
   "id": "492e8c76",
   "metadata": {},
   "outputs": [
    {
     "name": "stdout",
     "output_type": "stream",
     "text": [
      "<class 'pandas.core.frame.DataFrame'>\n",
      "Int64Index: 20 entries, 0 to 19\n",
      "Data columns (total 5 columns):\n",
      " #   Column           Non-Null Count  Dtype \n",
      "---  ------           --------------  ----- \n",
      " 0   Position         20 non-null     int64 \n",
      " 1   rateings         19 non-null     object\n",
      " 2   price            20 non-null     object\n",
      " 3   kruti_name       20 non-null     object\n",
      " 4   Delivery_status  20 non-null     object\n",
      "dtypes: int64(1), object(4)\n",
      "memory usage: 960.0+ bytes\n"
     ]
    }
   ],
   "source": [
    "df_all.info()"
   ]
  },
  {
   "cell_type": "code",
   "execution_count": 18,
   "id": "cff19f4d",
   "metadata": {},
   "outputs": [],
   "source": [
    "## cost dtype is object changes to int first deleting Rs symbol from data\n",
    "##code\n",
    "new_cost = [item.replace(\"₹\", \"\") for item in cost]"
   ]
  },
  {
   "cell_type": "code",
   "execution_count": 19,
   "id": "4bb9e76c",
   "metadata": {},
   "outputs": [
    {
     "name": "stdout",
     "output_type": "stream",
     "text": [
      "['712', '170', '280', '275', '320', '275', '186', '272', '416', '275', '111', '327', '325', '289', '312', '277', '295', '237', '333', '311']\n"
     ]
    }
   ],
   "source": [
    "#new_cost= remove_dollar_symbol(cost)\n",
    "##testing\n",
    "print(new_cost)"
   ]
  },
  {
   "cell_type": "code",
   "execution_count": 20,
   "id": "74295280",
   "metadata": {},
   "outputs": [],
   "source": [
    "#combining in dataset as a new column\n",
    "df_all[\"cost\"]=new_cost"
   ]
  },
  {
   "cell_type": "code",
   "execution_count": 21,
   "id": "64dede75",
   "metadata": {},
   "outputs": [
    {
     "name": "stdout",
     "output_type": "stream",
     "text": [
      "<class 'pandas.core.frame.DataFrame'>\n",
      "Int64Index: 20 entries, 0 to 19\n",
      "Data columns (total 6 columns):\n",
      " #   Column           Non-Null Count  Dtype \n",
      "---  ------           --------------  ----- \n",
      " 0   Position         20 non-null     int64 \n",
      " 1   rateings         19 non-null     object\n",
      " 2   price            20 non-null     object\n",
      " 3   kruti_name       20 non-null     object\n",
      " 4   Delivery_status  20 non-null     object\n",
      " 5   cost             20 non-null     object\n",
      "dtypes: int64(1), object(5)\n",
      "memory usage: 1.1+ KB\n"
     ]
    }
   ],
   "source": [
    "df_all.info()"
   ]
  },
  {
   "cell_type": "code",
   "execution_count": 22,
   "id": "6108cda5",
   "metadata": {},
   "outputs": [],
   "source": [
    "## as cost have object data type so converting into integer\n",
    "df_all[\"cost\"]=df_all[\"cost\"].astype(\"int64\")"
   ]
  },
  {
   "cell_type": "code",
   "execution_count": 23,
   "id": "46e829b6",
   "metadata": {},
   "outputs": [
    {
     "name": "stdout",
     "output_type": "stream",
     "text": [
      "<class 'pandas.core.frame.DataFrame'>\n",
      "Int64Index: 20 entries, 0 to 19\n",
      "Data columns (total 6 columns):\n",
      " #   Column           Non-Null Count  Dtype \n",
      "---  ------           --------------  ----- \n",
      " 0   Position         20 non-null     int64 \n",
      " 1   rateings         19 non-null     object\n",
      " 2   price            20 non-null     object\n",
      " 3   kruti_name       20 non-null     object\n",
      " 4   Delivery_status  20 non-null     object\n",
      " 5   cost             20 non-null     int64 \n",
      "dtypes: int64(2), object(4)\n",
      "memory usage: 1.1+ KB\n"
     ]
    }
   ],
   "source": [
    "df_all.info()"
   ]
  },
  {
   "cell_type": "code",
   "execution_count": 24,
   "id": "659839cf",
   "metadata": {},
   "outputs": [],
   "source": [
    "df_all.drop(\"Position\",inplace=True,axis=1)\n",
    "df_all.drop(\"price\",inplace=True,axis=1)"
   ]
  },
  {
   "cell_type": "code",
   "execution_count": 25,
   "id": "76060a65",
   "metadata": {},
   "outputs": [
    {
     "data": {
      "text/html": [
       "<div>\n",
       "<style scoped>\n",
       "    .dataframe tbody tr th:only-of-type {\n",
       "        vertical-align: middle;\n",
       "    }\n",
       "\n",
       "    .dataframe tbody tr th {\n",
       "        vertical-align: top;\n",
       "    }\n",
       "\n",
       "    .dataframe thead th {\n",
       "        text-align: right;\n",
       "    }\n",
       "</style>\n",
       "<table border=\"1\" class=\"dataframe\">\n",
       "  <thead>\n",
       "    <tr style=\"text-align: right;\">\n",
       "      <th></th>\n",
       "      <th>rateings</th>\n",
       "      <th>kruti_name</th>\n",
       "      <th>Delivery_status</th>\n",
       "      <th>cost</th>\n",
       "    </tr>\n",
       "  </thead>\n",
       "  <tbody>\n",
       "    <tr>\n",
       "      <th>0</th>\n",
       "      <td>4.0\\nSupplier</td>\n",
       "      <td>Aishani Refined Kurtis</td>\n",
       "      <td>Free Delivery</td>\n",
       "      <td>712</td>\n",
       "    </tr>\n",
       "    <tr>\n",
       "      <th>1</th>\n",
       "      <td>3.8\\n28042 Reviews</td>\n",
       "      <td>Trendy Sensational Kurtis</td>\n",
       "      <td>Free Delivery</td>\n",
       "      <td>170</td>\n",
       "    </tr>\n",
       "    <tr>\n",
       "      <th>2</th>\n",
       "      <td>4.0\\n62010 Reviews</td>\n",
       "      <td>Banita Sensational Kurtis</td>\n",
       "      <td>Free Delivery</td>\n",
       "      <td>280</td>\n",
       "    </tr>\n",
       "    <tr>\n",
       "      <th>3</th>\n",
       "      <td>3.9\\n3731 Reviews</td>\n",
       "      <td>Aagam Attractive Kurtis</td>\n",
       "      <td>Free Delivery</td>\n",
       "      <td>275</td>\n",
       "    </tr>\n",
       "    <tr>\n",
       "      <th>4</th>\n",
       "      <td>4.2\\n14263 Reviews</td>\n",
       "      <td>Women Rayon Flared Printed Orange Kurti</td>\n",
       "      <td>Free Delivery</td>\n",
       "      <td>320</td>\n",
       "    </tr>\n",
       "  </tbody>\n",
       "</table>\n",
       "</div>"
      ],
      "text/plain": [
       "             rateings                               kruti_name  \\\n",
       "0       4.0\\nSupplier                   Aishani Refined Kurtis   \n",
       "1  3.8\\n28042 Reviews                Trendy Sensational Kurtis   \n",
       "2  4.0\\n62010 Reviews                Banita Sensational Kurtis   \n",
       "3   3.9\\n3731 Reviews                  Aagam Attractive Kurtis   \n",
       "4  4.2\\n14263 Reviews  Women Rayon Flared Printed Orange Kurti   \n",
       "\n",
       "  Delivery_status  cost  \n",
       "0   Free Delivery   712  \n",
       "1   Free Delivery   170  \n",
       "2   Free Delivery   280  \n",
       "3   Free Delivery   275  \n",
       "4   Free Delivery   320  "
      ]
     },
     "execution_count": 25,
     "metadata": {},
     "output_type": "execute_result"
    }
   ],
   "source": [
    "df_all.head(5)"
   ]
  },
  {
   "cell_type": "code",
   "execution_count": 58,
   "id": "a2a9dcdd",
   "metadata": {},
   "outputs": [],
   "source": [
    "## separating the ratings list into two first stars and no_of_reviews as the ratings section have two columns combine\n",
    "#code\n",
    "list2=df_all[\"rateings\"].str.split(\"\\n\").str.get(0)\n",
    "list3=df_all[\"rateings\"].str.split(\"\\n\").str.get(1)\n"
   ]
  },
  {
   "cell_type": "code",
   "execution_count": 61,
   "id": "f0156572",
   "metadata": {},
   "outputs": [],
   "source": [
    "df_all[\"stars\"]=list2\n",
    "df_all[\"no_of_reviews\"]=list3\n",
    "   \n",
    "   "
   ]
  },
  {
   "cell_type": "code",
   "execution_count": 62,
   "id": "ed86e82d",
   "metadata": {},
   "outputs": [
    {
     "data": {
      "text/html": [
       "<div>\n",
       "<style scoped>\n",
       "    .dataframe tbody tr th:only-of-type {\n",
       "        vertical-align: middle;\n",
       "    }\n",
       "\n",
       "    .dataframe tbody tr th {\n",
       "        vertical-align: top;\n",
       "    }\n",
       "\n",
       "    .dataframe thead th {\n",
       "        text-align: right;\n",
       "    }\n",
       "</style>\n",
       "<table border=\"1\" class=\"dataframe\">\n",
       "  <thead>\n",
       "    <tr style=\"text-align: right;\">\n",
       "      <th></th>\n",
       "      <th>rateings</th>\n",
       "      <th>kruti_name</th>\n",
       "      <th>Delivery_status</th>\n",
       "      <th>cost</th>\n",
       "      <th>stars</th>\n",
       "      <th>no_of_reviews</th>\n",
       "    </tr>\n",
       "  </thead>\n",
       "  <tbody>\n",
       "    <tr>\n",
       "      <th>0</th>\n",
       "      <td>4.0\\nSupplier</td>\n",
       "      <td>Aishani Refined Kurtis</td>\n",
       "      <td>Free Delivery</td>\n",
       "      <td>712</td>\n",
       "      <td>4.0</td>\n",
       "      <td>Supplier</td>\n",
       "    </tr>\n",
       "    <tr>\n",
       "      <th>1</th>\n",
       "      <td>3.8\\n28042 Reviews</td>\n",
       "      <td>Trendy Sensational Kurtis</td>\n",
       "      <td>Free Delivery</td>\n",
       "      <td>170</td>\n",
       "      <td>3.8</td>\n",
       "      <td>28042 Reviews</td>\n",
       "    </tr>\n",
       "    <tr>\n",
       "      <th>2</th>\n",
       "      <td>4.0\\n62010 Reviews</td>\n",
       "      <td>Banita Sensational Kurtis</td>\n",
       "      <td>Free Delivery</td>\n",
       "      <td>280</td>\n",
       "      <td>4.0</td>\n",
       "      <td>62010 Reviews</td>\n",
       "    </tr>\n",
       "    <tr>\n",
       "      <th>3</th>\n",
       "      <td>3.9\\n3731 Reviews</td>\n",
       "      <td>Aagam Attractive Kurtis</td>\n",
       "      <td>Free Delivery</td>\n",
       "      <td>275</td>\n",
       "      <td>3.9</td>\n",
       "      <td>3731 Reviews</td>\n",
       "    </tr>\n",
       "  </tbody>\n",
       "</table>\n",
       "</div>"
      ],
      "text/plain": [
       "             rateings                 kruti_name Delivery_status  cost stars  \\\n",
       "0       4.0\\nSupplier     Aishani Refined Kurtis   Free Delivery   712   4.0   \n",
       "1  3.8\\n28042 Reviews  Trendy Sensational Kurtis   Free Delivery   170   3.8   \n",
       "2  4.0\\n62010 Reviews  Banita Sensational Kurtis   Free Delivery   280   4.0   \n",
       "3   3.9\\n3731 Reviews    Aagam Attractive Kurtis   Free Delivery   275   3.9   \n",
       "\n",
       "   no_of_reviews  \n",
       "0       Supplier  \n",
       "1  28042 Reviews  \n",
       "2  62010 Reviews  \n",
       "3   3731 Reviews  "
      ]
     },
     "execution_count": 62,
     "metadata": {},
     "output_type": "execute_result"
    }
   ],
   "source": [
    "##testing \n",
    "df_all.head(4)"
   ]
  },
  {
   "cell_type": "code",
   "execution_count": 63,
   "id": "6a3d3836",
   "metadata": {},
   "outputs": [],
   "source": [
    "## dropping columns as rateings is no longer needed\n",
    "df_all.drop(\"rateings\",inplace= True, axis=1)"
   ]
  },
  {
   "cell_type": "code",
   "execution_count": 64,
   "id": "4ea7f466",
   "metadata": {},
   "outputs": [
    {
     "data": {
      "text/html": [
       "<div>\n",
       "<style scoped>\n",
       "    .dataframe tbody tr th:only-of-type {\n",
       "        vertical-align: middle;\n",
       "    }\n",
       "\n",
       "    .dataframe tbody tr th {\n",
       "        vertical-align: top;\n",
       "    }\n",
       "\n",
       "    .dataframe thead th {\n",
       "        text-align: right;\n",
       "    }\n",
       "</style>\n",
       "<table border=\"1\" class=\"dataframe\">\n",
       "  <thead>\n",
       "    <tr style=\"text-align: right;\">\n",
       "      <th></th>\n",
       "      <th>kruti_name</th>\n",
       "      <th>Delivery_status</th>\n",
       "      <th>cost</th>\n",
       "      <th>stars</th>\n",
       "      <th>no_of_reviews</th>\n",
       "    </tr>\n",
       "  </thead>\n",
       "  <tbody>\n",
       "    <tr>\n",
       "      <th>0</th>\n",
       "      <td>Aishani Refined Kurtis</td>\n",
       "      <td>Free Delivery</td>\n",
       "      <td>712</td>\n",
       "      <td>4.0</td>\n",
       "      <td>Supplier</td>\n",
       "    </tr>\n",
       "    <tr>\n",
       "      <th>1</th>\n",
       "      <td>Trendy Sensational Kurtis</td>\n",
       "      <td>Free Delivery</td>\n",
       "      <td>170</td>\n",
       "      <td>3.8</td>\n",
       "      <td>28042 Reviews</td>\n",
       "    </tr>\n",
       "    <tr>\n",
       "      <th>2</th>\n",
       "      <td>Banita Sensational Kurtis</td>\n",
       "      <td>Free Delivery</td>\n",
       "      <td>280</td>\n",
       "      <td>4.0</td>\n",
       "      <td>62010 Reviews</td>\n",
       "    </tr>\n",
       "    <tr>\n",
       "      <th>3</th>\n",
       "      <td>Aagam Attractive Kurtis</td>\n",
       "      <td>Free Delivery</td>\n",
       "      <td>275</td>\n",
       "      <td>3.9</td>\n",
       "      <td>3731 Reviews</td>\n",
       "    </tr>\n",
       "    <tr>\n",
       "      <th>4</th>\n",
       "      <td>Women Rayon Flared Printed Orange Kurti</td>\n",
       "      <td>Free Delivery</td>\n",
       "      <td>320</td>\n",
       "      <td>4.2</td>\n",
       "      <td>14263 Reviews</td>\n",
       "    </tr>\n",
       "  </tbody>\n",
       "</table>\n",
       "</div>"
      ],
      "text/plain": [
       "                                kruti_name Delivery_status  cost stars  \\\n",
       "0                   Aishani Refined Kurtis   Free Delivery   712   4.0   \n",
       "1                Trendy Sensational Kurtis   Free Delivery   170   3.8   \n",
       "2                Banita Sensational Kurtis   Free Delivery   280   4.0   \n",
       "3                  Aagam Attractive Kurtis   Free Delivery   275   3.9   \n",
       "4  Women Rayon Flared Printed Orange Kurti   Free Delivery   320   4.2   \n",
       "\n",
       "   no_of_reviews  \n",
       "0       Supplier  \n",
       "1  28042 Reviews  \n",
       "2  62010 Reviews  \n",
       "3   3731 Reviews  \n",
       "4  14263 Reviews  "
      ]
     },
     "execution_count": 64,
     "metadata": {},
     "output_type": "execute_result"
    }
   ],
   "source": [
    "df_all.head()"
   ]
  },
  {
   "cell_type": "code",
   "execution_count": 82,
   "id": "2207890b",
   "metadata": {},
   "outputs": [],
   "source": [
    "##in the no_of_reviews column one \"supplier\" is written so replacing it by not found\n",
    "mapping_dict = {\"not\": np.nan} # add other mappings if needed\n",
    "\n",
    "df_all[\"no_of_reviews\"] = df_all[\"no_of_reviews\"].replace(mapping_dict)\n"
   ]
  },
  {
   "cell_type": "code",
   "execution_count": 83,
   "id": "182fef1c",
   "metadata": {},
   "outputs": [
    {
     "data": {
      "text/html": [
       "<div>\n",
       "<style scoped>\n",
       "    .dataframe tbody tr th:only-of-type {\n",
       "        vertical-align: middle;\n",
       "    }\n",
       "\n",
       "    .dataframe tbody tr th {\n",
       "        vertical-align: top;\n",
       "    }\n",
       "\n",
       "    .dataframe thead th {\n",
       "        text-align: right;\n",
       "    }\n",
       "</style>\n",
       "<table border=\"1\" class=\"dataframe\">\n",
       "  <thead>\n",
       "    <tr style=\"text-align: right;\">\n",
       "      <th></th>\n",
       "      <th>kruti_name</th>\n",
       "      <th>Delivery_status</th>\n",
       "      <th>cost</th>\n",
       "      <th>stars</th>\n",
       "      <th>no_of_reviews</th>\n",
       "    </tr>\n",
       "  </thead>\n",
       "  <tbody>\n",
       "    <tr>\n",
       "      <th>0</th>\n",
       "      <td>Aishani Refined Kurtis</td>\n",
       "      <td>Free Delivery</td>\n",
       "      <td>712</td>\n",
       "      <td>4.0</td>\n",
       "      <td>NaN</td>\n",
       "    </tr>\n",
       "    <tr>\n",
       "      <th>1</th>\n",
       "      <td>Trendy Sensational Kurtis</td>\n",
       "      <td>Free Delivery</td>\n",
       "      <td>170</td>\n",
       "      <td>3.8</td>\n",
       "      <td>28042</td>\n",
       "    </tr>\n",
       "    <tr>\n",
       "      <th>2</th>\n",
       "      <td>Banita Sensational Kurtis</td>\n",
       "      <td>Free Delivery</td>\n",
       "      <td>280</td>\n",
       "      <td>4.0</td>\n",
       "      <td>62010</td>\n",
       "    </tr>\n",
       "    <tr>\n",
       "      <th>3</th>\n",
       "      <td>Aagam Attractive Kurtis</td>\n",
       "      <td>Free Delivery</td>\n",
       "      <td>275</td>\n",
       "      <td>3.9</td>\n",
       "      <td>3731</td>\n",
       "    </tr>\n",
       "  </tbody>\n",
       "</table>\n",
       "</div>"
      ],
      "text/plain": [
       "                  kruti_name Delivery_status  cost stars no_of_reviews\n",
       "0     Aishani Refined Kurtis   Free Delivery   712   4.0           NaN\n",
       "1  Trendy Sensational Kurtis   Free Delivery   170   3.8         28042\n",
       "2  Banita Sensational Kurtis   Free Delivery   280   4.0         62010\n",
       "3    Aagam Attractive Kurtis   Free Delivery   275   3.9          3731"
      ]
     },
     "execution_count": 83,
     "metadata": {},
     "output_type": "execute_result"
    }
   ],
   "source": [
    "df_all.head(4)"
   ]
  },
  {
   "cell_type": "code",
   "execution_count": 77,
   "id": "19220171",
   "metadata": {},
   "outputs": [],
   "source": [
    "##to take out only the numbers out of the strings\n",
    "df_all[\"no_of_reviews\"]=df_all[\"no_of_reviews\"].str.split(\" \").str.get(0)"
   ]
  },
  {
   "cell_type": "code",
   "execution_count": 85,
   "id": "45e14915",
   "metadata": {},
   "outputs": [
    {
     "data": {
      "text/html": [
       "<div>\n",
       "<style scoped>\n",
       "    .dataframe tbody tr th:only-of-type {\n",
       "        vertical-align: middle;\n",
       "    }\n",
       "\n",
       "    .dataframe tbody tr th {\n",
       "        vertical-align: top;\n",
       "    }\n",
       "\n",
       "    .dataframe thead th {\n",
       "        text-align: right;\n",
       "    }\n",
       "</style>\n",
       "<table border=\"1\" class=\"dataframe\">\n",
       "  <thead>\n",
       "    <tr style=\"text-align: right;\">\n",
       "      <th></th>\n",
       "      <th>kruti_name</th>\n",
       "      <th>Delivery_status</th>\n",
       "      <th>cost</th>\n",
       "      <th>stars</th>\n",
       "      <th>no_of_reviews</th>\n",
       "    </tr>\n",
       "  </thead>\n",
       "  <tbody>\n",
       "    <tr>\n",
       "      <th>0</th>\n",
       "      <td>Aishani Refined Kurtis</td>\n",
       "      <td>Free Delivery</td>\n",
       "      <td>712</td>\n",
       "      <td>4.0</td>\n",
       "      <td>NaN</td>\n",
       "    </tr>\n",
       "    <tr>\n",
       "      <th>1</th>\n",
       "      <td>Trendy Sensational Kurtis</td>\n",
       "      <td>Free Delivery</td>\n",
       "      <td>170</td>\n",
       "      <td>3.8</td>\n",
       "      <td>28042</td>\n",
       "    </tr>\n",
       "    <tr>\n",
       "      <th>2</th>\n",
       "      <td>Banita Sensational Kurtis</td>\n",
       "      <td>Free Delivery</td>\n",
       "      <td>280</td>\n",
       "      <td>4.0</td>\n",
       "      <td>62010</td>\n",
       "    </tr>\n",
       "    <tr>\n",
       "      <th>3</th>\n",
       "      <td>Aagam Attractive Kurtis</td>\n",
       "      <td>Free Delivery</td>\n",
       "      <td>275</td>\n",
       "      <td>3.9</td>\n",
       "      <td>3731</td>\n",
       "    </tr>\n",
       "    <tr>\n",
       "      <th>4</th>\n",
       "      <td>Women Rayon Flared Printed Orange Kurti</td>\n",
       "      <td>Free Delivery</td>\n",
       "      <td>320</td>\n",
       "      <td>4.2</td>\n",
       "      <td>14263</td>\n",
       "    </tr>\n",
       "    <tr>\n",
       "      <th>5</th>\n",
       "      <td>Jivika Refined Kurtis</td>\n",
       "      <td>Free Delivery</td>\n",
       "      <td>275</td>\n",
       "      <td>4.0</td>\n",
       "      <td>4548</td>\n",
       "    </tr>\n",
       "  </tbody>\n",
       "</table>\n",
       "</div>"
      ],
      "text/plain": [
       "                                kruti_name Delivery_status  cost stars  \\\n",
       "0                   Aishani Refined Kurtis   Free Delivery   712   4.0   \n",
       "1                Trendy Sensational Kurtis   Free Delivery   170   3.8   \n",
       "2                Banita Sensational Kurtis   Free Delivery   280   4.0   \n",
       "3                  Aagam Attractive Kurtis   Free Delivery   275   3.9   \n",
       "4  Women Rayon Flared Printed Orange Kurti   Free Delivery   320   4.2   \n",
       "5                    Jivika Refined Kurtis   Free Delivery   275   4.0   \n",
       "\n",
       "  no_of_reviews  \n",
       "0           NaN  \n",
       "1         28042  \n",
       "2         62010  \n",
       "3          3731  \n",
       "4         14263  \n",
       "5          4548  "
      ]
     },
     "execution_count": 85,
     "metadata": {},
     "output_type": "execute_result"
    }
   ],
   "source": [
    "df_all.head(6)"
   ]
  },
  {
   "cell_type": "code",
   "execution_count": 100,
   "id": "44fcbe13",
   "metadata": {},
   "outputs": [],
   "source": [
    "## as the stars column is in object dtype so converting into float\n",
    "df_all[\"stars\"]=df_all[\"stars\"].astype(float)"
   ]
  },
  {
   "cell_type": "code",
   "execution_count": 101,
   "id": "78aed857",
   "metadata": {},
   "outputs": [
    {
     "name": "stdout",
     "output_type": "stream",
     "text": [
      "<class 'pandas.core.frame.DataFrame'>\n",
      "Int64Index: 20 entries, 0 to 19\n",
      "Data columns (total 5 columns):\n",
      " #   Column           Non-Null Count  Dtype  \n",
      "---  ------           --------------  -----  \n",
      " 0   kruti_name       20 non-null     object \n",
      " 1   Delivery_status  20 non-null     object \n",
      " 2   cost             20 non-null     int64  \n",
      " 3   stars            19 non-null     float64\n",
      " 4   no_of_reviews    18 non-null     object \n",
      "dtypes: float64(1), int64(1), object(3)\n",
      "memory usage: 1.5+ KB\n"
     ]
    }
   ],
   "source": [
    "df_all.info()"
   ]
  },
  {
   "cell_type": "code",
   "execution_count": 103,
   "id": "2b3b1b5c",
   "metadata": {},
   "outputs": [],
   "source": [
    "df_all[\"no_of_reviews\"]=df_all[\"no_of_reviews\"].astype(float)"
   ]
  },
  {
   "cell_type": "code",
   "execution_count": 104,
   "id": "fe7d76bd",
   "metadata": {},
   "outputs": [
    {
     "name": "stdout",
     "output_type": "stream",
     "text": [
      "<class 'pandas.core.frame.DataFrame'>\n",
      "Int64Index: 20 entries, 0 to 19\n",
      "Data columns (total 5 columns):\n",
      " #   Column           Non-Null Count  Dtype  \n",
      "---  ------           --------------  -----  \n",
      " 0   kruti_name       20 non-null     object \n",
      " 1   Delivery_status  20 non-null     object \n",
      " 2   cost             20 non-null     int64  \n",
      " 3   stars            19 non-null     float64\n",
      " 4   no_of_reviews    18 non-null     float64\n",
      "dtypes: float64(2), int64(1), object(2)\n",
      "memory usage: 1.5+ KB\n"
     ]
    }
   ],
   "source": [
    "df_all.info()"
   ]
  },
  {
   "cell_type": "code",
   "execution_count": 106,
   "id": "529bf52e",
   "metadata": {},
   "outputs": [],
   "source": [
    "## handeling the missing values\n",
    "df_all[\"no_of_reviews\"].fillna(df_all[\"no_of_reviews\"].mean(), inplace= True)"
   ]
  },
  {
   "cell_type": "code",
   "execution_count": 107,
   "id": "d346d208",
   "metadata": {},
   "outputs": [
    {
     "name": "stdout",
     "output_type": "stream",
     "text": [
      "<class 'pandas.core.frame.DataFrame'>\n",
      "Int64Index: 20 entries, 0 to 19\n",
      "Data columns (total 5 columns):\n",
      " #   Column           Non-Null Count  Dtype  \n",
      "---  ------           --------------  -----  \n",
      " 0   kruti_name       20 non-null     object \n",
      " 1   Delivery_status  20 non-null     object \n",
      " 2   cost             20 non-null     int64  \n",
      " 3   stars            19 non-null     float64\n",
      " 4   no_of_reviews    20 non-null     float64\n",
      "dtypes: float64(2), int64(1), object(2)\n",
      "memory usage: 1.5+ KB\n"
     ]
    }
   ],
   "source": [
    "df_all.info()"
   ]
  },
  {
   "cell_type": "code",
   "execution_count": 108,
   "id": "2de6438c",
   "metadata": {},
   "outputs": [],
   "source": [
    "df_all[\"stars\"].fillna(df_all[\"stars\"].mean(), inplace= True)"
   ]
  },
  {
   "cell_type": "code",
   "execution_count": 109,
   "id": "a9ce550e",
   "metadata": {},
   "outputs": [
    {
     "name": "stdout",
     "output_type": "stream",
     "text": [
      "<class 'pandas.core.frame.DataFrame'>\n",
      "Int64Index: 20 entries, 0 to 19\n",
      "Data columns (total 5 columns):\n",
      " #   Column           Non-Null Count  Dtype  \n",
      "---  ------           --------------  -----  \n",
      " 0   kruti_name       20 non-null     object \n",
      " 1   Delivery_status  20 non-null     object \n",
      " 2   cost             20 non-null     int64  \n",
      " 3   stars            20 non-null     float64\n",
      " 4   no_of_reviews    20 non-null     float64\n",
      "dtypes: float64(2), int64(1), object(2)\n",
      "memory usage: 1.5+ KB\n"
     ]
    }
   ],
   "source": [
    "df_all.info()"
   ]
  },
  {
   "cell_type": "code",
   "execution_count": 111,
   "id": "2ec32840",
   "metadata": {},
   "outputs": [],
   "source": [
    "df_all.to_csv(\"cleaned data.csv\")"
   ]
  },
  {
   "cell_type": "code",
   "execution_count": null,
   "id": "b92c358b",
   "metadata": {},
   "outputs": [],
   "source": []
  }
 ],
 "metadata": {
  "kernelspec": {
   "display_name": "Python 3 (ipykernel)",
   "language": "python",
   "name": "python3"
  },
  "language_info": {
   "codemirror_mode": {
    "name": "ipython",
    "version": 3
   },
   "file_extension": ".py",
   "mimetype": "text/x-python",
   "name": "python",
   "nbconvert_exporter": "python",
   "pygments_lexer": "ipython3",
   "version": "3.10.9"
  }
 },
 "nbformat": 4,
 "nbformat_minor": 5
}
